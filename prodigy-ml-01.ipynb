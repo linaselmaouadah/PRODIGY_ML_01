{
 "cells": [
  {
   "cell_type": "code",
   "execution_count": 1,
   "id": "95e044cd",
   "metadata": {
    "_cell_guid": "b1076dfc-b9ad-4769-8c92-a6c4dae69d19",
    "_uuid": "8f2839f25d086af736a60e9eeb907d3b93b6e0e5",
    "execution": {
     "iopub.execute_input": "2024-09-04T17:35:10.913553Z",
     "iopub.status.busy": "2024-09-04T17:35:10.912551Z",
     "iopub.status.idle": "2024-09-04T17:35:12.997820Z",
     "shell.execute_reply": "2024-09-04T17:35:12.996462Z"
    },
    "papermill": {
     "duration": 2.092167,
     "end_time": "2024-09-04T17:35:13.000507",
     "exception": false,
     "start_time": "2024-09-04T17:35:10.908340",
     "status": "completed"
    },
    "tags": []
   },
   "outputs": [
    {
     "name": "stdout",
     "output_type": "stream",
     "text": [
      "/kaggle/input/house-prices-advanced-regression-techniques/sample_submission.csv\n",
      "/kaggle/input/house-prices-advanced-regression-techniques/data_description.txt\n",
      "/kaggle/input/house-prices-advanced-regression-techniques/train.csv\n",
      "/kaggle/input/house-prices-advanced-regression-techniques/test.csv\n"
     ]
    }
   ],
   "source": [
    "import numpy as np \n",
    "import pandas as pd \n",
    "from sklearn.linear_model import LinearRegression\n",
    "from sklearn.metrics import r2_score , mean_squared_error\n",
    "\n",
    "# Input data files are available in the read-only \"../input/\" directory\n",
    "# For example, running this (by clicking run or pressing Shift+Enter) will list all files under the input directory\n",
    "\n",
    "import os\n",
    "for dirname, _, filenames in os.walk('/kaggle/input'):\n",
    "    for filename in filenames:\n",
    "        print(os.path.join(dirname, filename))\n",
    "\n",
    "# You can write up to 20GB to the current directory (/kaggle/working/) that gets preserved as output when you create a version using \"Save & Run All\" \n",
    "# You can also write temporary files to /kaggle/temp/, but they won't be saved outside of the current session"
   ]
  },
  {
   "cell_type": "code",
   "execution_count": 2,
   "id": "0d79a4e5",
   "metadata": {
    "execution": {
     "iopub.execute_input": "2024-09-04T17:35:13.006841Z",
     "iopub.status.busy": "2024-09-04T17:35:13.006201Z",
     "iopub.status.idle": "2024-09-04T17:35:13.215284Z",
     "shell.execute_reply": "2024-09-04T17:35:13.213912Z"
    },
    "papermill": {
     "duration": 0.21521,
     "end_time": "2024-09-04T17:35:13.218038",
     "exception": false,
     "start_time": "2024-09-04T17:35:13.002828",
     "status": "completed"
    },
    "tags": []
   },
   "outputs": [
    {
     "name": "stdout",
     "output_type": "stream",
     "text": [
      "the predicted values :\n",
      "[[ 7385.98255965]\n",
      " [ 7415.18429726]\n",
      " [ 9986.12338882]\n",
      " ...\n",
      " [10839.28017021]\n",
      " [10828.69833213]\n",
      " [ 9986.12338882]]\n",
      "R2 squared : -0.11912820901034649\n",
      "Mean squared error : 26427081.893806286\n"
     ]
    }
   ],
   "source": [
    "# Load training and testing data from CSV files\n",
    "train_data = pd.read_csv('/kaggle/input/house-prices-advanced-regression-techniques/train.csv')\n",
    "test_data = pd.read_csv('/kaggle/input/house-prices-advanced-regression-techniques/test.csv')\n",
    "\n",
    "test_data.dropna(subset = ['FullBath', 'HalfBath', 'BsmtFullBath', 'BsmtHalfBath'] ,inplace=True) \n",
    "train_data.dropna(subset = ['FullBath', 'HalfBath', 'BsmtFullBath', 'BsmtHalfBath'], inplace=True) \n",
    "\n",
    "# Prepare feature variables for model input\n",
    "X_train = train_data[['FullBath', 'HalfBath', 'BsmtFullBath', 'BsmtHalfBath']].values\n",
    "X_test = test_data[['FullBath', 'HalfBath', 'BsmtFullBath', 'BsmtHalfBath']].values\n",
    "\n",
    "# Prepare target variable (training data only)\n",
    "Y_train = (train_data['LotArea'].values).reshape(-1,1)\n",
    "Y_test = (test_data['LotArea'].values).reshape(-1,1)\n",
    "\n",
    "# Initialize and fit the model\n",
    "model = LinearRegression()\n",
    "model.fit(X_train, Y_train)\n",
    "\n",
    "# Make predictions\n",
    "Y_pred = model.predict(X_test)\n",
    "print ('the predicted values :')\n",
    "print (Y_pred)\n",
    "\n",
    "#Evaluate the model \n",
    "r2 = r2_score(Y_test ,Y_pred)\n",
    "mean_squared_error = mean_squared_error(Y_test ,Y_pred)\n",
    "print (f'R2 squared : {r2}')\n",
    "print (f'Mean squared error : {mean_squared_error}')\n"
   ]
  }
 ],
 "metadata": {
  "kaggle": {
   "accelerator": "none",
   "dataSources": [
    {
     "databundleVersionId": 868283,
     "sourceId": 5407,
     "sourceType": "competition"
    }
   ],
   "dockerImageVersionId": 30761,
   "isGpuEnabled": false,
   "isInternetEnabled": false,
   "language": "python",
   "sourceType": "notebook"
  },
  "kernelspec": {
   "display_name": "Python 3",
   "language": "python",
   "name": "python3"
  },
  "language_info": {
   "codemirror_mode": {
    "name": "ipython",
    "version": 3
   },
   "file_extension": ".py",
   "mimetype": "text/x-python",
   "name": "python",
   "nbconvert_exporter": "python",
   "pygments_lexer": "ipython3",
   "version": "3.10.14"
  },
  "papermill": {
   "default_parameters": {},
   "duration": 6.001079,
   "end_time": "2024-09-04T17:35:13.842986",
   "environment_variables": {},
   "exception": null,
   "input_path": "__notebook__.ipynb",
   "output_path": "__notebook__.ipynb",
   "parameters": {},
   "start_time": "2024-09-04T17:35:07.841907",
   "version": "2.6.0"
  }
 },
 "nbformat": 4,
 "nbformat_minor": 5
}
